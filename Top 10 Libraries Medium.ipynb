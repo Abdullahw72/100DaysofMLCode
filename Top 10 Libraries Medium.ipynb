{
 "cells": [
  {
   "cell_type": "markdown",
   "id": "6bb0c361",
   "metadata": {},
   "source": [
    "# Pandas Functions"
   ]
  },
  {
   "cell_type": "code",
   "execution_count": 5,
   "id": "efe26306",
   "metadata": {},
   "outputs": [
    {
     "data": {
      "text/html": [
       "<div>\n",
       "<style scoped>\n",
       "    .dataframe tbody tr th:only-of-type {\n",
       "        vertical-align: middle;\n",
       "    }\n",
       "\n",
       "    .dataframe tbody tr th {\n",
       "        vertical-align: top;\n",
       "    }\n",
       "\n",
       "    .dataframe thead th {\n",
       "        text-align: right;\n",
       "    }\n",
       "</style>\n",
       "<table border=\"1\" class=\"dataframe\">\n",
       "  <thead>\n",
       "    <tr style=\"text-align: right;\">\n",
       "      <th></th>\n",
       "      <th>Gender</th>\n",
       "      <th>Age</th>\n",
       "      <th>mock_exam_marks</th>\n",
       "      <th>1st_monthly_score</th>\n",
       "      <th>2nd_monthly_score</th>\n",
       "      <th>3rd_monthly_score</th>\n",
       "      <th>4th_monthly_score</th>\n",
       "      <th>mid_exam_score</th>\n",
       "      <th>final_exam_score</th>\n",
       "      <th>internet_access</th>\n",
       "      <th>free_time_after_school</th>\n",
       "      <th>current_health</th>\n",
       "      <th>travel_time</th>\n",
       "    </tr>\n",
       "  </thead>\n",
       "  <tbody>\n",
       "    <tr>\n",
       "      <th>0</th>\n",
       "      <td>Male</td>\n",
       "      <td>4</td>\n",
       "      <td>80.0</td>\n",
       "      <td>81.0</td>\n",
       "      <td>88.0</td>\n",
       "      <td>84.0</td>\n",
       "      <td>83.0</td>\n",
       "      <td>69.0</td>\n",
       "      <td>0</td>\n",
       "      <td>1</td>\n",
       "      <td>3</td>\n",
       "      <td>0</td>\n",
       "      <td>0</td>\n",
       "    </tr>\n",
       "    <tr>\n",
       "      <th>1</th>\n",
       "      <td>Male</td>\n",
       "      <td>4</td>\n",
       "      <td>82.0</td>\n",
       "      <td>66.0</td>\n",
       "      <td>76.0</td>\n",
       "      <td>58.0</td>\n",
       "      <td>95.0</td>\n",
       "      <td>74.0</td>\n",
       "      <td>0</td>\n",
       "      <td>0</td>\n",
       "      <td>3</td>\n",
       "      <td>4</td>\n",
       "      <td>3</td>\n",
       "    </tr>\n",
       "    <tr>\n",
       "      <th>2</th>\n",
       "      <td>Male</td>\n",
       "      <td>4</td>\n",
       "      <td>91.0</td>\n",
       "      <td>90.0</td>\n",
       "      <td>81.0</td>\n",
       "      <td>70.0</td>\n",
       "      <td>84.0</td>\n",
       "      <td>93.0</td>\n",
       "      <td>2</td>\n",
       "      <td>0</td>\n",
       "      <td>3</td>\n",
       "      <td>0</td>\n",
       "      <td>0</td>\n",
       "    </tr>\n",
       "    <tr>\n",
       "      <th>3</th>\n",
       "      <td>Female</td>\n",
       "      <td>4</td>\n",
       "      <td>73.0</td>\n",
       "      <td>84.0</td>\n",
       "      <td>52.0</td>\n",
       "      <td>71.0</td>\n",
       "      <td>59.0</td>\n",
       "      <td>85.0</td>\n",
       "      <td>0</td>\n",
       "      <td>1</td>\n",
       "      <td>2</td>\n",
       "      <td>1</td>\n",
       "      <td>0</td>\n",
       "    </tr>\n",
       "    <tr>\n",
       "      <th>4</th>\n",
       "      <td>Male</td>\n",
       "      <td>3</td>\n",
       "      <td>82.0</td>\n",
       "      <td>85.0</td>\n",
       "      <td>52.0</td>\n",
       "      <td>81.0</td>\n",
       "      <td>69.0</td>\n",
       "      <td>97.0</td>\n",
       "      <td>1</td>\n",
       "      <td>0</td>\n",
       "      <td>2</td>\n",
       "      <td>5</td>\n",
       "      <td>1</td>\n",
       "    </tr>\n",
       "  </tbody>\n",
       "</table>\n",
       "</div>"
      ],
      "text/plain": [
       "   Gender  Age  mock_exam_marks  1st_monthly_score  2nd_monthly_score  \\\n",
       "0    Male    4             80.0               81.0               88.0   \n",
       "1    Male    4             82.0               66.0               76.0   \n",
       "2    Male    4             91.0               90.0               81.0   \n",
       "3  Female    4             73.0               84.0               52.0   \n",
       "4    Male    3             82.0               85.0               52.0   \n",
       "\n",
       "   3rd_monthly_score  4th_monthly_score  mid_exam_score  final_exam_score  \\\n",
       "0               84.0               83.0            69.0                 0   \n",
       "1               58.0               95.0            74.0                 0   \n",
       "2               70.0               84.0            93.0                 2   \n",
       "3               71.0               59.0            85.0                 0   \n",
       "4               81.0               69.0            97.0                 1   \n",
       "\n",
       "   internet_access  free_time_after_school  current_health  travel_time  \n",
       "0                1                       3               0            0  \n",
       "1                0                       3               4            3  \n",
       "2                0                       3               0            0  \n",
       "3                1                       2               1            0  \n",
       "4                0                       2               5            1  "
      ]
     },
     "execution_count": 5,
     "metadata": {},
     "output_type": "execute_result"
    }
   ],
   "source": [
    "import pandas as pd\n",
    "\n",
    "df = pd.read_csv('Math_Data.csv')\n",
    "\n",
    "df.head(5)"
   ]
  },
  {
   "cell_type": "code",
   "execution_count": 3,
   "id": "4076a499",
   "metadata": {},
   "outputs": [
    {
     "data": {
      "text/html": [
       "<div>\n",
       "<style scoped>\n",
       "    .dataframe tbody tr th:only-of-type {\n",
       "        vertical-align: middle;\n",
       "    }\n",
       "\n",
       "    .dataframe tbody tr th {\n",
       "        vertical-align: top;\n",
       "    }\n",
       "\n",
       "    .dataframe thead th {\n",
       "        text-align: right;\n",
       "    }\n",
       "</style>\n",
       "<table border=\"1\" class=\"dataframe\">\n",
       "  <thead>\n",
       "    <tr style=\"text-align: right;\">\n",
       "      <th></th>\n",
       "      <th>Age</th>\n",
       "      <th>mock_exam_marks</th>\n",
       "      <th>1st_monthly_score</th>\n",
       "      <th>2nd_monthly_score</th>\n",
       "      <th>3rd_monthly_score</th>\n",
       "      <th>4th_monthly_score</th>\n",
       "      <th>mid_exam_score</th>\n",
       "      <th>final_exam_score</th>\n",
       "      <th>internet_access</th>\n",
       "      <th>free_time_after_school</th>\n",
       "      <th>current_health</th>\n",
       "      <th>travel_time</th>\n",
       "    </tr>\n",
       "  </thead>\n",
       "  <tbody>\n",
       "    <tr>\n",
       "      <th>count</th>\n",
       "      <td>1549.000000</td>\n",
       "      <td>1549.000000</td>\n",
       "      <td>1549.000000</td>\n",
       "      <td>1549.000000</td>\n",
       "      <td>1549.000000</td>\n",
       "      <td>1549.000000</td>\n",
       "      <td>1549.000000</td>\n",
       "      <td>1549.000000</td>\n",
       "      <td>1549.000000</td>\n",
       "      <td>1549.000000</td>\n",
       "      <td>1549.000000</td>\n",
       "      <td>1549.000000</td>\n",
       "    </tr>\n",
       "    <tr>\n",
       "      <th>mean</th>\n",
       "      <td>8.045190</td>\n",
       "      <td>84.532343</td>\n",
       "      <td>73.387992</td>\n",
       "      <td>78.180310</td>\n",
       "      <td>80.067011</td>\n",
       "      <td>80.558812</td>\n",
       "      <td>82.606779</td>\n",
       "      <td>2.016139</td>\n",
       "      <td>0.496449</td>\n",
       "      <td>1.972886</td>\n",
       "      <td>2.521627</td>\n",
       "      <td>1.958683</td>\n",
       "    </tr>\n",
       "    <tr>\n",
       "      <th>std</th>\n",
       "      <td>3.358128</td>\n",
       "      <td>12.140723</td>\n",
       "      <td>12.899540</td>\n",
       "      <td>15.535625</td>\n",
       "      <td>14.131375</td>\n",
       "      <td>14.130539</td>\n",
       "      <td>12.670407</td>\n",
       "      <td>1.400119</td>\n",
       "      <td>0.500149</td>\n",
       "      <td>1.407084</td>\n",
       "      <td>1.711891</td>\n",
       "      <td>1.410407</td>\n",
       "    </tr>\n",
       "    <tr>\n",
       "      <th>min</th>\n",
       "      <td>3.000000</td>\n",
       "      <td>33.300000</td>\n",
       "      <td>37.500000</td>\n",
       "      <td>0.000000</td>\n",
       "      <td>0.000000</td>\n",
       "      <td>33.300000</td>\n",
       "      <td>0.000000</td>\n",
       "      <td>0.000000</td>\n",
       "      <td>0.000000</td>\n",
       "      <td>0.000000</td>\n",
       "      <td>0.000000</td>\n",
       "      <td>0.000000</td>\n",
       "    </tr>\n",
       "    <tr>\n",
       "      <th>25%</th>\n",
       "      <td>5.000000</td>\n",
       "      <td>76.800000</td>\n",
       "      <td>65.000000</td>\n",
       "      <td>66.000000</td>\n",
       "      <td>68.800000</td>\n",
       "      <td>70.000000</td>\n",
       "      <td>74.700000</td>\n",
       "      <td>1.000000</td>\n",
       "      <td>0.000000</td>\n",
       "      <td>1.000000</td>\n",
       "      <td>1.000000</td>\n",
       "      <td>1.000000</td>\n",
       "    </tr>\n",
       "    <tr>\n",
       "      <th>50%</th>\n",
       "      <td>7.000000</td>\n",
       "      <td>87.000000</td>\n",
       "      <td>74.000000</td>\n",
       "      <td>80.000000</td>\n",
       "      <td>81.000000</td>\n",
       "      <td>83.000000</td>\n",
       "      <td>84.500000</td>\n",
       "      <td>2.000000</td>\n",
       "      <td>0.000000</td>\n",
       "      <td>2.000000</td>\n",
       "      <td>3.000000</td>\n",
       "      <td>2.000000</td>\n",
       "    </tr>\n",
       "    <tr>\n",
       "      <th>75%</th>\n",
       "      <td>10.000000</td>\n",
       "      <td>94.800000</td>\n",
       "      <td>84.000000</td>\n",
       "      <td>90.100000</td>\n",
       "      <td>91.300000</td>\n",
       "      <td>91.300000</td>\n",
       "      <td>92.000000</td>\n",
       "      <td>3.000000</td>\n",
       "      <td>1.000000</td>\n",
       "      <td>3.000000</td>\n",
       "      <td>4.000000</td>\n",
       "      <td>3.000000</td>\n",
       "    </tr>\n",
       "    <tr>\n",
       "      <th>max</th>\n",
       "      <td>17.000000</td>\n",
       "      <td>100.000000</td>\n",
       "      <td>100.000000</td>\n",
       "      <td>100.000000</td>\n",
       "      <td>100.000000</td>\n",
       "      <td>100.000000</td>\n",
       "      <td>100.000000</td>\n",
       "      <td>4.000000</td>\n",
       "      <td>1.000000</td>\n",
       "      <td>4.000000</td>\n",
       "      <td>5.000000</td>\n",
       "      <td>4.000000</td>\n",
       "    </tr>\n",
       "  </tbody>\n",
       "</table>\n",
       "</div>"
      ],
      "text/plain": [
       "               Age  mock_exam_marks  1st_monthly_score  2nd_monthly_score  \\\n",
       "count  1549.000000      1549.000000        1549.000000        1549.000000   \n",
       "mean      8.045190        84.532343          73.387992          78.180310   \n",
       "std       3.358128        12.140723          12.899540          15.535625   \n",
       "min       3.000000        33.300000          37.500000           0.000000   \n",
       "25%       5.000000        76.800000          65.000000          66.000000   \n",
       "50%       7.000000        87.000000          74.000000          80.000000   \n",
       "75%      10.000000        94.800000          84.000000          90.100000   \n",
       "max      17.000000       100.000000         100.000000         100.000000   \n",
       "\n",
       "       3rd_monthly_score  4th_monthly_score  mid_exam_score  final_exam_score  \\\n",
       "count        1549.000000        1549.000000     1549.000000       1549.000000   \n",
       "mean           80.067011          80.558812       82.606779          2.016139   \n",
       "std            14.131375          14.130539       12.670407          1.400119   \n",
       "min             0.000000          33.300000        0.000000          0.000000   \n",
       "25%            68.800000          70.000000       74.700000          1.000000   \n",
       "50%            81.000000          83.000000       84.500000          2.000000   \n",
       "75%            91.300000          91.300000       92.000000          3.000000   \n",
       "max           100.000000         100.000000      100.000000          4.000000   \n",
       "\n",
       "       internet_access  free_time_after_school  current_health  travel_time  \n",
       "count      1549.000000             1549.000000     1549.000000  1549.000000  \n",
       "mean          0.496449                1.972886        2.521627     1.958683  \n",
       "std           0.500149                1.407084        1.711891     1.410407  \n",
       "min           0.000000                0.000000        0.000000     0.000000  \n",
       "25%           0.000000                1.000000        1.000000     1.000000  \n",
       "50%           0.000000                2.000000        3.000000     2.000000  \n",
       "75%           1.000000                3.000000        4.000000     3.000000  \n",
       "max           1.000000                4.000000        5.000000     4.000000  "
      ]
     },
     "execution_count": 3,
     "metadata": {},
     "output_type": "execute_result"
    }
   ],
   "source": [
    "df.describe()"
   ]
  },
  {
   "cell_type": "code",
   "execution_count": 4,
   "id": "f131f471",
   "metadata": {},
   "outputs": [
    {
     "name": "stdout",
     "output_type": "stream",
     "text": [
      "<class 'pandas.core.frame.DataFrame'>\n",
      "RangeIndex: 1549 entries, 0 to 1548\n",
      "Data columns (total 13 columns):\n",
      " #   Column                  Non-Null Count  Dtype  \n",
      "---  ------                  --------------  -----  \n",
      " 0   Gender                  1549 non-null   object \n",
      " 1   Age                     1549 non-null   int64  \n",
      " 2   mock_exam_marks         1549 non-null   float64\n",
      " 3   1st_monthly_score       1549 non-null   float64\n",
      " 4   2nd_monthly_score       1549 non-null   float64\n",
      " 5   3rd_monthly_score       1549 non-null   float64\n",
      " 6   4th_monthly_score       1549 non-null   float64\n",
      " 7   mid_exam_score          1549 non-null   float64\n",
      " 8   final_exam_score        1549 non-null   int64  \n",
      " 9   internet_access         1549 non-null   int64  \n",
      " 10  free_time_after_school  1549 non-null   int64  \n",
      " 11  current_health          1549 non-null   int64  \n",
      " 12  travel_time             1549 non-null   int64  \n",
      "dtypes: float64(6), int64(6), object(1)\n",
      "memory usage: 157.4+ KB\n"
     ]
    }
   ],
   "source": [
    "df.info()"
   ]
  },
  {
   "cell_type": "markdown",
   "id": "2d9dbe17",
   "metadata": {},
   "source": [
    "# Numpy Functions"
   ]
  },
  {
   "cell_type": "code",
   "execution_count": 18,
   "id": "f5199af7",
   "metadata": {},
   "outputs": [
    {
     "name": "stdout",
     "output_type": "stream",
     "text": [
      "[[2 6 3]\n",
      " [8 5 7]\n",
      " [2 4 1]]\n"
     ]
    }
   ],
   "source": [
    "import numpy as np\n",
    "\n",
    "arr = np.array([2,6,3,8,5,7,2,4,1]).reshape(3,3)\n",
    "                                            \n",
    "print(arr)"
   ]
  },
  {
   "cell_type": "code",
   "execution_count": 19,
   "id": "dc6b5696",
   "metadata": {},
   "outputs": [
    {
     "name": "stdout",
     "output_type": "stream",
     "text": [
      "[[2 3 6]\n",
      " [5 7 8]\n",
      " [1 2 4]]\n"
     ]
    }
   ],
   "source": [
    "arr_sorted = np.sort(arr, axis = 1)\n",
    "                                            \n",
    "print(arr_sorted)"
   ]
  },
  {
   "cell_type": "code",
   "execution_count": 21,
   "id": "735d1e4c",
   "metadata": {},
   "outputs": [
    {
     "data": {
      "text/plain": [
       "array([1, 7, 8, 9, 4, 4, 2, 7, 7, 4, 1, 1, 1, 8, 3])"
      ]
     },
     "execution_count": 21,
     "metadata": {},
     "output_type": "execute_result"
    }
   ],
   "source": [
    "np.random.randint(1,10,15)"
   ]
  },
  {
   "cell_type": "code",
   "execution_count": 23,
   "id": "8f898755",
   "metadata": {},
   "outputs": [
    {
     "data": {
      "text/plain": [
       "9"
      ]
     },
     "execution_count": 23,
     "metadata": {},
     "output_type": "execute_result"
    }
   ],
   "source": [
    "arr = np.array([2,3,9,5,3,4,5,7,9,1])\n",
    "\n",
    "np.max(arr)"
   ]
  },
  {
   "cell_type": "code",
   "execution_count": 24,
   "id": "3a14169d",
   "metadata": {},
   "outputs": [
    {
     "data": {
      "text/plain": [
       "1"
      ]
     },
     "execution_count": 24,
     "metadata": {},
     "output_type": "execute_result"
    }
   ],
   "source": [
    "arr = np.array([2,3,9,5,3,4,5,7,9,1])\n",
    "\n",
    "np.min(arr)"
   ]
  },
  {
   "cell_type": "markdown",
   "id": "e4f3d29c",
   "metadata": {},
   "source": [
    "# Matplotlib Functions"
   ]
  },
  {
   "cell_type": "code",
   "execution_count": 32,
   "id": "2d5c2c52",
   "metadata": {},
   "outputs": [
    {
     "data": {
      "image/png": "[encoded data removed]",
      "text/plain": [
       "<Figure size 432x288 with 1 Axes>"
      ]
     },
     "metadata": {
      "needs_background": "light"
     },
     "output_type": "display_data"
    }
   ],
   "source": [
    "import matplotlib.pyplot as plt\n",
    "\n",
    "x = [1, 2, 3, 4]\n",
    "y = [2, 4, 6, 8]\n",
    "\n",
    "plt.scatter(x, y)\n",
    "\n",
    "plt.xlabel('X')\n",
    "plt.ylabel('Y')\n",
    "plt.title('Scatter Plot')\n",
    "\n",
    "\n",
    "plt.show()"
   ]
  },
  {
   "cell_type": "markdown",
   "id": "1c04c37e",
   "metadata": {},
   "source": [
    "# PyTorch Functions"
   ]
  },
  {
   "cell_type": "code",
   "execution_count": 34,
   "id": "03242136",
   "metadata": {},
   "outputs": [
    {
     "name": "stdout",
     "output_type": "stream",
     "text": [
      "tensor([1., 2., 3., 4., 5., 6., 7., 8., 9.])\n",
      "Shape before Reshaping Tensor is : 9 \n",
      "\n",
      "tensor([[1., 2., 3.],\n",
      "        [4., 5., 6.],\n",
      "        [7., 8., 9.]])\n",
      "\n",
      "Shape After Reshaping Tensor is : 3 x 3\n"
     ]
    }
   ],
   "source": [
    "import torch\n",
    "\n",
    "a = torch.arange(1.,10)\n",
    "print(a)\n",
    "print(\"Shape before Reshaping Tensor is :\",a.shape[0],\"\\n\")\n",
    "a = a.reshape(3,3)\n",
    "print(a)\n",
    "print(f\"\\nShape After Reshaping Tensor is : {a.shape[0]} x {a.shape[1]}\")"
   ]
  },
  {
   "cell_type": "code",
   "execution_count": null,
   "id": "a6f1574c",
   "metadata": {},
   "outputs": [],
   "source": [
    "import torch\n",
    "\n",
    "x = torch.arange(1.,8,2)\n",
    "x"
   ]
  },
  {
   "cell_type": "code",
   "execution_count": 35,
   "id": "ece9af27",
   "metadata": {},
   "outputs": [
    {
     "name": "stdout",
     "output_type": "stream",
     "text": [
      "Original Matrix : \n",
      "tensor([[1., 2., 3.],\n",
      "        [0., 0., 0.],\n",
      "        [4., 5., 6.]])\n",
      "\n",
      "Transpose Matrix : \n",
      "tensor([[1., 0., 4.],\n",
      "        [2., 0., 5.],\n",
      "        [3., 0., 6.]])\n"
     ]
    }
   ],
   "source": [
    "matrix = torch.Tensor(\n",
    "[\n",
    "    [1, 2, 3],\n",
    "    [0, 0, 0],\n",
    "    [4, 5, 6]\n",
    "])\n",
    "\n",
    "print(\"Original Matrix : \")\n",
    "print(matrix)\n",
    "print(\"\\nTranspose Matrix : \")\n",
    "print(matrix.t())"
   ]
  },
  {
   "cell_type": "markdown",
   "id": "da98f0d7",
   "metadata": {},
   "source": [
    "# Seaborn Functions"
   ]
  },
  {
   "cell_type": "code",
   "execution_count": null,
   "id": "1bbb6ef9",
   "metadata": {},
   "outputs": [],
   "source": [
    "import seaborn as sns\n",
    "\n",
    "sns.distplot(tips_df['total_bill'], color='r')\n",
    "plt.title(\"Distribution of total bills\")\n",
    "plt.show()"
   ]
  },
  {
   "cell_type": "code",
   "execution_count": null,
   "id": "4fae2c3f",
   "metadata": {},
   "outputs": [],
   "source": [
    "import seaborn as sns\n",
    "\n",
    "sns.countplot(tips_df['time'])\n",
    "plt.title(\"Count of Time\")\n",
    "plt.show()"
   ]
  },
  {
   "cell_type": "code",
   "execution_count": null,
   "id": "62b5ba87",
   "metadata": {},
   "outputs": [],
   "source": [
    "import seaborn as sns\n",
    "\n",
    "sns.barplot(x='sex', y='fare', data=titanic_df, hue='class')\n",
    "plt.show()"
   ]
  },
  {
   "cell_type": "markdown",
   "id": "2c89d303",
   "metadata": {},
   "source": [
    "# OpenCV Functions"
   ]
  },
  {
   "cell_type": "code",
   "execution_count": 42,
   "id": "ee02f639",
   "metadata": {},
   "outputs": [
    {
     "data": {
      "text/plain": [
       "array([[203, 203, 203, ..., 207, 207, 207],\n",
       "       [203, 203, 203, ..., 207, 207, 207],\n",
       "       [203, 203, 203, ..., 207, 207, 207],\n",
       "       ...,\n",
       "       [145, 168, 226, ..., 174, 174, 174],\n",
       "       [124, 146, 208, ..., 173, 173, 173],\n",
       "       [108, 124, 183, ..., 173, 173, 173]], dtype=uint8)"
      ]
     },
     "execution_count": 42,
     "metadata": {},
     "output_type": "execute_result"
    }
   ],
   "source": [
    "import cv2\n",
    "image = cv2.imread('Display-image.jpg',0)\n",
    "image"
   ]
  },
  {
   "cell_type": "code",
   "execution_count": 43,
   "id": "149b8493",
   "metadata": {},
   "outputs": [],
   "source": [
    "cv2.imshow('image',image)\n",
    "\n",
    "cv2.waitKey(0)\n",
    "\n",
    "cv2.destroyAllWindows()"
   ]
  },
  {
   "cell_type": "code",
   "execution_count": 45,
   "id": "382098a8",
   "metadata": {},
   "outputs": [
    {
     "data": {
      "text/plain": [
       "True"
      ]
     },
     "execution_count": 45,
     "metadata": {},
     "output_type": "execute_result"
    }
   ],
   "source": [
    "cv2.imwrite('Display-image_GreyScale.jpg',image)"
   ]
  },
  {
   "cell_type": "markdown",
   "id": "98331100",
   "metadata": {},
   "source": [
    "# NLTK Functions"
   ]
  },
  {
   "cell_type": "code",
   "execution_count": 66,
   "id": "4ef7db3e",
   "metadata": {},
   "outputs": [
    {
     "name": "stdout",
     "output_type": "stream",
     "text": [
      "['My', 'name', 'is', 'Abdullah', 'Wahid', '.']\n"
     ]
    },
    {
     "name": "stderr",
     "output_type": "stream",
     "text": [
      "[nltk_data] Downloading package punkt to\n",
      "[nltk_data]     C:\\Users\\Leo\\AppData\\Roaming\\nltk_data...\n",
      "[nltk_data]   Package punkt is already up-to-date!\n"
     ]
    }
   ],
   "source": [
    "from nltk.tokenize import word_tokenize\n",
    "\n",
    "nltk.download('punkt')\n",
    "\n",
    "sentence = \"My name is Abdullah Wahid.\"\n",
    "\n",
    "tokens = word_tokenize(sentence)\n",
    "\n",
    "print(tokens)"
   ]
  },
  {
   "cell_type": "code",
   "execution_count": 51,
   "id": "9e36cc04",
   "metadata": {},
   "outputs": [
    {
     "name": "stdout",
     "output_type": "stream",
     "text": [
      "['My', 'name', 'Abdullah', 'Wahid', 'I', 'writing', 'Medium', 'Article', '.']\n"
     ]
    },
    {
     "name": "stderr",
     "output_type": "stream",
     "text": [
      "[nltk_data] Downloading package punkt to\n",
      "[nltk_data]     C:\\Users\\Leo\\AppData\\Roaming\\nltk_data...\n",
      "[nltk_data]   Package punkt is already up-to-date!\n"
     ]
    }
   ],
   "source": [
    "from nltk.corpus import stopwords\n",
    "\n",
    "nltk.download('punkt')\n",
    "\n",
    "sentence = \"My name is Abdullah Wahid and I am writing this Medium Article.\"\n",
    "\n",
    "tokens = nltk.word_tokenize(sentence)\n",
    "\n",
    "stop_words = set(stopwords.words('english'))\n",
    "  \n",
    "word_tokens = word_tokenize(sentence)\n",
    "\n",
    "filtered_sentence = [w for w in word_tokens if not w.lower() in stop_words]\n",
    "\n",
    "filtered_sentence = []\n",
    "  \n",
    "for w in word_tokens:\n",
    "    if w not in stop_words:\n",
    "        filtered_sentence.append(w)\n",
    "  \n",
    "print(filtered_sentence)"
   ]
  },
  {
   "cell_type": "code",
   "execution_count": 58,
   "id": "9c0c567b",
   "metadata": {},
   "outputs": [
    {
     "name": "stderr",
     "output_type": "stream",
     "text": [
      "[nltk_data] Downloading package averaged_perceptron_tagger to\n",
      "[nltk_data]     C:\\Users\\Leo\\AppData\\Roaming\\nltk_data...\n",
      "[nltk_data]   Unzipping taggers\\averaged_perceptron_tagger.zip.\n"
     ]
    },
    {
     "data": {
      "text/plain": [
       "True"
      ]
     },
     "execution_count": 58,
     "metadata": {},
     "output_type": "execute_result"
    }
   ],
   "source": [
    "nltk.download('averaged_perceptron_tagger')"
   ]
  },
  {
   "cell_type": "code",
   "execution_count": 62,
   "id": "d887a4e0",
   "metadata": {},
   "outputs": [
    {
     "name": "stderr",
     "output_type": "stream",
     "text": [
      "[nltk_data] Downloading package universal_tagset to\n",
      "[nltk_data]     C:\\Users\\Leo\\AppData\\Roaming\\nltk_data...\n",
      "[nltk_data]   Unzipping taggers\\universal_tagset.zip.\n"
     ]
    },
    {
     "data": {
      "text/plain": [
       "True"
      ]
     },
     "execution_count": 62,
     "metadata": {},
     "output_type": "execute_result"
    }
   ],
   "source": [
    "nltk.download('universal_tagset')"
   ]
  },
  {
   "cell_type": "code",
   "execution_count": 68,
   "id": "3a59d341",
   "metadata": {},
   "outputs": [
    {
     "data": {
      "text/plain": [
       "[('My', 'PRON'),\n",
       " ('name', 'NOUN'),\n",
       " ('is', 'VERB'),\n",
       " ('Abdullah', 'NOUN'),\n",
       " ('Wahid', 'NOUN'),\n",
       " ('and', 'CONJ'),\n",
       " ('I', 'PRON'),\n",
       " ('am', 'VERB'),\n",
       " ('writing', 'VERB'),\n",
       " ('this', 'DET'),\n",
       " ('Medium', 'NOUN'),\n",
       " ('Article', 'NOUN'),\n",
       " ('.', '.')]"
      ]
     },
     "execution_count": 68,
     "metadata": {},
     "output_type": "execute_result"
    }
   ],
   "source": [
    "import nltk\n",
    "from nltk import word_tokenize\n",
    "\n",
    "sentence = \"My name is Abdullah Wahid and I am writing this Medium Article.\"\n",
    "tokens = word_tokenize(sentence)\n",
    "tags = nltk.pos_tag(tokens, tagset = \"universal\")\n",
    "tags"
   ]
  },
  {
   "cell_type": "markdown",
   "id": "adef2e64",
   "metadata": {},
   "source": [
    "# SciPy Functions"
   ]
  },
  {
   "cell_type": "code",
   "execution_count": 69,
   "id": "0c027aab",
   "metadata": {},
   "outputs": [
    {
     "name": "stdout",
     "output_type": "stream",
     "text": [
      "100.0\n"
     ]
    }
   ],
   "source": [
    "from scipy import special\n",
    "\n",
    "a = special.exp10(2)  # 10 pow(2)\n",
    "print(a)"
   ]
  },
  {
   "cell_type": "code",
   "execution_count": 70,
   "id": "496bdd34",
   "metadata": {},
   "outputs": [
    {
     "name": "stdout",
     "output_type": "stream",
     "text": [
      "1.0\n"
     ]
    }
   ],
   "source": [
    "from scipy import special\n",
    "\n",
    "sin_test = special.sindg(90)\n",
    "print(sin_test)"
   ]
  },
  {
   "cell_type": "code",
   "execution_count": 73,
   "id": "9888df99",
   "metadata": {},
   "outputs": [
    {
     "name": "stdout",
     "output_type": "stream",
     "text": [
      "-1.0\n"
     ]
    }
   ],
   "source": [
    "cos_test = special.cosdg(180)\n",
    "print(cos_test)"
   ]
  },
  {
   "cell_type": "code",
   "execution_count": 76,
   "id": "f85c69a7",
   "metadata": {},
   "outputs": [
    {
     "name": "stdout",
     "output_type": "stream",
     "text": [
      "0.0\n"
     ]
    }
   ],
   "source": [
    "tan_test = special.tandg(180)\n",
    "print(tan_test)"
   ]
  },
  {
   "cell_type": "code",
   "execution_count": 77,
   "id": "c0b1820a",
   "metadata": {},
   "outputs": [
    {
     "name": "stdout",
     "output_type": "stream",
     "text": [
      "[[-0.14285714  0.21428571]\n",
      " [ 0.28571429 -0.17857143]]\n"
     ]
    }
   ],
   "source": [
    "from scipy import linalg\n",
    "\n",
    "input_a = np.array([[5,6],[8,4]])\n",
    "\n",
    "lin_alg_output = linalg.inv(input_a)\n",
    "\n",
    "print(lin_alg_output)"
   ]
  },
  {
   "cell_type": "code",
   "execution_count": null,
   "id": "99d23661",
   "metadata": {},
   "outputs": [],
   "source": []
  }
 ],
 "metadata": {
  "kernelspec": {
   "display_name": "Python 3 (ipykernel)",
   "language": "python",
   "name": "python3"
  },
  "language_info": {
   "codemirror_mode": {
    "name": "ipython",
    "version": 3
   },
   "file_extension": ".py",
   "mimetype": "text/x-python",
   "name": "python",
   "nbconvert_exporter": "python",
   "pygments_lexer": "ipython3",
   "version": "3.9.7"
  }
 },
 "nbformat": 4,
 "nbformat_minor": 5
}
